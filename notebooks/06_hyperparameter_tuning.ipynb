{
 "cells": [
  {
   "cell_type": "code",
   "execution_count": 8,
   "id": "9357a5bf",
   "metadata": {},
   "outputs": [
    {
     "name": "stdout",
     "output_type": "stream",
     "text": [
      "Requirement already satisfied: pandas in c:\\python313\\lib\\site-packages (2.3.2)\n",
      "Requirement already satisfied: numpy in c:\\python313\\lib\\site-packages (2.3.2)\n",
      "Requirement already satisfied: scikit-learn in c:\\python313\\lib\\site-packages (1.7.1)\n",
      "Requirement already satisfied: joblib in c:\\python313\\lib\\site-packages (1.5.2)\n",
      "Requirement already satisfied: python-dateutil>=2.8.2 in c:\\users\\omara\\appdata\\roaming\\python\\python313\\site-packages (from pandas) (2.9.0.post0)\n",
      "Requirement already satisfied: pytz>=2020.1 in c:\\python313\\lib\\site-packages (from pandas) (2025.2)\n",
      "Requirement already satisfied: tzdata>=2022.7 in c:\\python313\\lib\\site-packages (from pandas) (2025.2)\n",
      "Requirement already satisfied: scipy>=1.8.0 in c:\\python313\\lib\\site-packages (from scikit-learn) (1.16.1)\n",
      "Requirement already satisfied: threadpoolctl>=3.1.0 in c:\\python313\\lib\\site-packages (from scikit-learn) (3.6.0)\n",
      "Requirement already satisfied: six>=1.5 in c:\\users\\omara\\appdata\\roaming\\python\\python313\\site-packages (from python-dateutil>=2.8.2->pandas) (1.17.0)\n",
      "Note: you may need to restart the kernel to use updated packages.\n"
     ]
    },
    {
     "name": "stderr",
     "output_type": "stream",
     "text": [
      "\n",
      "[notice] A new release of pip is available: 24.2 -> 25.2\n",
      "[notice] To update, run: python.exe -m pip install --upgrade pip\n"
     ]
    }
   ],
   "source": [
    "%pip install pandas numpy scikit-learn joblib\n"
   ]
  },
  {
   "cell_type": "code",
   "execution_count": 13,
   "id": "660aa061",
   "metadata": {},
   "outputs": [],
   "source": [
    "# 1. Import Libraries\n",
    "import pandas as pd\n",
    "import numpy as np\n",
    "from sklearn.model_selection import train_test_split, GridSearchCV, RandomizedSearchCV\n",
    "from sklearn.linear_model import LogisticRegression\n",
    "from sklearn.tree import DecisionTreeClassifier\n",
    "from sklearn.ensemble import RandomForestClassifier\n",
    "from sklearn.svm import SVC\n",
    "from sklearn.metrics import accuracy_score, classification_report\n"
   ]
  },
  {
   "cell_type": "code",
   "execution_count": 15,
   "id": "75379a45",
   "metadata": {},
   "outputs": [
    {
     "name": "stdout",
     "output_type": "stream",
     "text": [
      "Train shape: (242, 13)  Test shape: (61, 13)\n"
     ]
    }
   ],
   "source": [
    "# 2. Load Reduced Dataset\n",
    "df = pd.read_csv(\"D:/Omar/Projects/Ai/Sprints/Heart_Disease_Project/data/reduced_heart.csv\")\n",
    "\n",
    "X = df.drop(\"target\", axis=1)\n",
    "y = (df[\"target\"] > 0).astype(int)  \n",
    "\n",
    "# Train/Test Split\n",
    "X_train, X_test, y_train, y_test = train_test_split(X, y, test_size=0.2, random_state=42, stratify=y)\n",
    "\n",
    "print(\"Train shape:\", X_train.shape, \" Test shape:\", X_test.shape)\n"
   ]
  },
  {
   "cell_type": "code",
   "execution_count": 16,
   "id": "088f3d09",
   "metadata": {},
   "outputs": [
    {
     "name": "stdout",
     "output_type": "stream",
     "text": [
      "Baseline Performance:\n",
      "\n",
      "Logistic Regression Accuracy: 0.885\n",
      "Decision Tree Accuracy: 0.787\n",
      "Random Forest Accuracy: 0.836\n",
      "SVM Accuracy: 0.852\n"
     ]
    }
   ],
   "source": [
    "# 3. Baseline Models (untuned)\n",
    "models = {\n",
    "    \"Logistic Regression\": LogisticRegression(max_iter=1000),\n",
    "    \"Decision Tree\": DecisionTreeClassifier(random_state=42),\n",
    "    \"Random Forest\": RandomForestClassifier(random_state=42),\n",
    "    \"SVM\": SVC(probability=True, random_state=42)\n",
    "}\n",
    "\n",
    "print(\"Baseline Performance:\\n\")\n",
    "for name, model in models.items():\n",
    "    model.fit(X_train, y_train)\n",
    "    y_pred = model.predict(X_test)\n",
    "    print(f\"{name} Accuracy: {accuracy_score(y_test, y_pred):.3f}\")\n"
   ]
  },
  {
   "cell_type": "code",
   "execution_count": 17,
   "id": "a340270c",
   "metadata": {},
   "outputs": [
    {
     "name": "stdout",
     "output_type": "stream",
     "text": [
      "Best Params (GridSearchCV): {'max_depth': 10, 'min_samples_split': 5, 'n_estimators': 200}\n",
      "Best Score (GridSearchCV): 0.8303571428571429\n",
      "Test Accuracy (GridSearchCV): 0.8524590163934426\n"
     ]
    }
   ],
   "source": [
    "# 4. GridSearchCV - Random Forest\n",
    "param_grid = {\n",
    "    \"n_estimators\": [50, 100, 200],\n",
    "    \"max_depth\": [None, 5, 10],\n",
    "    \"min_samples_split\": [2, 5, 10]\n",
    "}\n",
    "\n",
    "grid = GridSearchCV(RandomForestClassifier(random_state=42), param_grid, cv=5, scoring=\"accuracy\")\n",
    "grid.fit(X_train, y_train)\n",
    "\n",
    "print(\"Best Params (GridSearchCV):\", grid.best_params_)\n",
    "print(\"Best Score (GridSearchCV):\", grid.best_score_)\n",
    "\n",
    "best_rf = grid.best_estimator_\n",
    "y_pred = best_rf.predict(X_test)\n",
    "print(\"Test Accuracy (GridSearchCV):\", accuracy_score(y_test, y_pred))\n"
   ]
  },
  {
   "cell_type": "code",
   "execution_count": 18,
   "id": "28d184e5",
   "metadata": {},
   "outputs": [
    {
     "name": "stdout",
     "output_type": "stream",
     "text": [
      "Best Params (RandomizedSearchCV): {'kernel': 'linear', 'gamma': 'scale', 'C': 0.1}\n",
      "Best Score (RandomizedSearchCV): 0.8220238095238097\n",
      "Test Accuracy (RandomizedSearchCV): 0.8688524590163934\n"
     ]
    }
   ],
   "source": [
    "# 5. RandomizedSearchCV - SVM\n",
    "param_dist = {\n",
    "    \"C\": [0.1, 1, 10, 100],\n",
    "    \"gamma\": [\"scale\", \"auto\"],\n",
    "    \"kernel\": [\"linear\", \"rbf\"]\n",
    "}\n",
    "\n",
    "rand = RandomizedSearchCV(SVC(probability=True, random_state=42), param_dist, cv=5, n_iter=5, scoring=\"accuracy\", random_state=42)\n",
    "rand.fit(X_train, y_train)\n",
    "\n",
    "print(\"Best Params (RandomizedSearchCV):\", rand.best_params_)\n",
    "print(\"Best Score (RandomizedSearchCV):\", rand.best_score_)\n",
    "\n",
    "best_svm = rand.best_estimator_\n",
    "y_pred = best_svm.predict(X_test)\n",
    "print(\"Test Accuracy (RandomizedSearchCV):\", accuracy_score(y_test, y_pred))\n"
   ]
  },
  {
   "cell_type": "code",
   "execution_count": null,
   "id": "23ebca74",
   "metadata": {},
   "outputs": [
    {
     "name": "stdout",
     "output_type": "stream",
     "text": [
      "\n",
      "Best Tuned Models:\n",
      "Random Forest (GridSearchCV) Accuracy: 0.787\n",
      "              precision    recall  f1-score   support\n",
      "\n",
      "           0       0.75      0.91      0.82        33\n",
      "           1       0.86      0.64      0.73        28\n",
      "\n",
      "    accuracy                           0.79        61\n",
      "   macro avg       0.80      0.78      0.78        61\n",
      "weighted avg       0.80      0.79      0.78        61\n",
      "\n",
      "SVM (RandomizedSearchCV) Accuracy: 0.672\n",
      "              precision    recall  f1-score   support\n",
      "\n",
      "           0       1.00      0.39      0.57        33\n",
      "           1       0.58      1.00      0.74        28\n",
      "\n",
      "    accuracy                           0.67        61\n",
      "   macro avg       0.79      0.70      0.65        61\n",
      "weighted avg       0.81      0.67      0.64        61\n",
      "\n",
      "\n",
      " Best Model: Random Forest (GridSearchCV) with accuracy 0.787\n"
     ]
    },
    {
     "name": "stderr",
     "output_type": "stream",
     "text": [
      "c:\\Python313\\Lib\\site-packages\\sklearn\\utils\\validation.py:2742: UserWarning: X has feature names, but RandomForestClassifier was fitted without feature names\n",
      "  warnings.warn(\n",
      "c:\\Python313\\Lib\\site-packages\\sklearn\\utils\\validation.py:2742: UserWarning: X has feature names, but SVC was fitted without feature names\n",
      "  warnings.warn(\n"
     ]
    },
    {
     "name": "stdout",
     "output_type": "stream",
     "text": [
      "✔️ Best model saved as best_model.pkl\n"
     ]
    }
   ],
   "source": [
    "# 6. Compare Tuned Models\n",
    "import joblib\n",
    "from sklearn.pipeline import Pipeline\n",
    "from sklearn.preprocessing import StandardScaler\n",
    "\n",
    "print(\"\\nBest Tuned Models:\")\n",
    "\n",
    "final_models = {\n",
    "    \"Random Forest (GridSearchCV)\": best_rf,\n",
    "    \"SVM (RandomizedSearchCV)\": best_svm\n",
    "}\n",
    "\n",
    "best_model_name = None\n",
    "best_model_score = 0\n",
    "best_model = None\n",
    "\n",
    "for name, model in final_models.items():\n",
    "    y_pred = model.predict(X_test)\n",
    "    acc = accuracy_score(y_test, y_pred)\n",
    "    print(f\"{name} Accuracy: {acc:.3f}\")\n",
    "    print(classification_report(y_test, y_pred))\n",
    "    \n",
    "    if acc > best_model_score:\n",
    "        best_model_score = acc\n",
    "        best_model_name = name\n",
    "        best_model = model\n",
    "\n",
    "print(f\"\\n Best Model: {best_model_name} with accuracy {best_model_score:.3f}\")\n",
    "\n",
    "# Wrap best model in a pipeline (with scaling)\n",
    "best_model_pipeline = Pipeline([\n",
    "    (\"scaler\", StandardScaler()),\n",
    "    (\"model\", best_model)\n",
    "])\n",
    "best_model_pipeline.fit(X_train, y_train)\n",
    "\n",
    "# Save best model\n",
    "joblib.dump(best_model_pipeline, \"final_model.pkl\")\n",
    "print(\"✔️ Best model saved as final_model.pkl\")\n"
   ]
  }
 ],
 "metadata": {
  "kernelspec": {
   "display_name": "Python 3",
   "language": "python",
   "name": "python3"
  },
  "language_info": {
   "codemirror_mode": {
    "name": "ipython",
    "version": 3
   },
   "file_extension": ".py",
   "mimetype": "text/x-python",
   "name": "python",
   "nbconvert_exporter": "python",
   "pygments_lexer": "ipython3",
   "version": "3.13.0"
  }
 },
 "nbformat": 4,
 "nbformat_minor": 5
}
