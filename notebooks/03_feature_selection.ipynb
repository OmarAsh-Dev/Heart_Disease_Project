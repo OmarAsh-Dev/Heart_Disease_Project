{
 "cells": [
  {
   "cell_type": "code",
   "execution_count": 1,
   "id": "38d16aaa",
   "metadata": {},
   "outputs": [
    {
     "name": "stdout",
     "output_type": "stream",
     "text": [
      "Requirement already satisfied: pandas in c:\\python313\\lib\\site-packages (2.3.2)\n",
      "Requirement already satisfied: numpy in c:\\python313\\lib\\site-packages (2.3.2)\n",
      "Requirement already satisfied: matplotlib in c:\\python313\\lib\\site-packages (3.10.6)\n",
      "Requirement already satisfied: seaborn in c:\\python313\\lib\\site-packages (0.13.2)\n",
      "Requirement already satisfied: scikit-learn in c:\\python313\\lib\\site-packages (1.7.1)\n",
      "Collecting xgboost\n",
      "  Downloading xgboost-3.0.5-py3-none-win_amd64.whl.metadata (2.1 kB)\n",
      "Requirement already satisfied: python-dateutil>=2.8.2 in c:\\users\\omara\\appdata\\roaming\\python\\python313\\site-packages (from pandas) (2.9.0.post0)\n",
      "Requirement already satisfied: pytz>=2020.1 in c:\\python313\\lib\\site-packages (from pandas) (2025.2)\n",
      "Requirement already satisfied: tzdata>=2022.7 in c:\\python313\\lib\\site-packages (from pandas) (2025.2)\n",
      "Requirement already satisfied: contourpy>=1.0.1 in c:\\python313\\lib\\site-packages (from matplotlib) (1.3.3)\n",
      "Requirement already satisfied: cycler>=0.10 in c:\\python313\\lib\\site-packages (from matplotlib) (0.12.1)\n",
      "Requirement already satisfied: fonttools>=4.22.0 in c:\\python313\\lib\\site-packages (from matplotlib) (4.59.2)\n",
      "Requirement already satisfied: kiwisolver>=1.3.1 in c:\\python313\\lib\\site-packages (from matplotlib) (1.4.9)\n",
      "Requirement already satisfied: packaging>=20.0 in c:\\users\\omara\\appdata\\roaming\\python\\python313\\site-packages (from matplotlib) (25.0)\n",
      "Requirement already satisfied: pillow>=8 in c:\\python313\\lib\\site-packages (from matplotlib) (11.3.0)\n",
      "Requirement already satisfied: pyparsing>=2.3.1 in c:\\python313\\lib\\site-packages (from matplotlib) (3.2.3)\n",
      "Requirement already satisfied: scipy>=1.8.0 in c:\\python313\\lib\\site-packages (from scikit-learn) (1.16.1)\n",
      "Requirement already satisfied: joblib>=1.2.0 in c:\\python313\\lib\\site-packages (from scikit-learn) (1.5.2)\n",
      "Requirement already satisfied: threadpoolctl>=3.1.0 in c:\\python313\\lib\\site-packages (from scikit-learn) (3.6.0)\n",
      "Requirement already satisfied: six>=1.5 in c:\\users\\omara\\appdata\\roaming\\python\\python313\\site-packages (from python-dateutil>=2.8.2->pandas) (1.17.0)\n",
      "Downloading xgboost-3.0.5-py3-none-win_amd64.whl (56.8 MB)\n",
      "   ---------------------------------------- 0.0/56.8 MB ? eta -:--:--\n",
      "   ---------------------------------------- 0.3/56.8 MB ? eta -:--:--\n",
      "    --------------------------------------- 1.0/56.8 MB 3.8 MB/s eta 0:00:15\n",
      "   - -------------------------------------- 1.8/56.8 MB 3.2 MB/s eta 0:00:18\n",
      "   -- ------------------------------------- 2.9/56.8 MB 3.8 MB/s eta 0:00:15\n",
      "   -- ------------------------------------- 3.7/56.8 MB 3.8 MB/s eta 0:00:14\n",
      "   --- ------------------------------------ 4.5/56.8 MB 3.8 MB/s eta 0:00:14\n",
      "   --- ------------------------------------ 5.5/56.8 MB 3.8 MB/s eta 0:00:14\n",
      "   ---- ----------------------------------- 6.3/56.8 MB 3.8 MB/s eta 0:00:14\n",
      "   ---- ----------------------------------- 7.1/56.8 MB 3.8 MB/s eta 0:00:13\n",
      "   ----- ---------------------------------- 7.9/56.8 MB 3.9 MB/s eta 0:00:13\n",
      "   ------ --------------------------------- 8.7/56.8 MB 3.8 MB/s eta 0:00:13\n",
      "   ------ --------------------------------- 9.2/56.8 MB 3.8 MB/s eta 0:00:13\n",
      "   ------- -------------------------------- 10.0/56.8 MB 3.8 MB/s eta 0:00:13\n",
      "   ------- -------------------------------- 10.7/56.8 MB 3.7 MB/s eta 0:00:13\n",
      "   ------- -------------------------------- 11.3/56.8 MB 3.7 MB/s eta 0:00:13\n",
      "   -------- ------------------------------- 11.8/56.8 MB 3.6 MB/s eta 0:00:13\n",
      "   -------- ------------------------------- 12.6/56.8 MB 3.5 MB/s eta 0:00:13\n",
      "   --------- ------------------------------ 13.1/56.8 MB 3.5 MB/s eta 0:00:13\n",
      "   --------- ------------------------------ 13.9/56.8 MB 3.5 MB/s eta 0:00:13\n",
      "   --------- ------------------------------ 14.2/56.8 MB 3.4 MB/s eta 0:00:13\n",
      "   ---------- ----------------------------- 14.7/56.8 MB 3.4 MB/s eta 0:00:13\n",
      "   ---------- ----------------------------- 15.5/56.8 MB 3.3 MB/s eta 0:00:13\n",
      "   ----------- ---------------------------- 16.3/56.8 MB 3.3 MB/s eta 0:00:13\n",
      "   ----------- ---------------------------- 16.8/56.8 MB 3.3 MB/s eta 0:00:13\n",
      "   ------------ --------------------------- 17.6/56.8 MB 3.3 MB/s eta 0:00:12\n",
      "   ------------ --------------------------- 18.1/56.8 MB 3.3 MB/s eta 0:00:12\n",
      "   ------------- -------------------------- 18.9/56.8 MB 3.3 MB/s eta 0:00:12\n",
      "   ------------- -------------------------- 19.7/56.8 MB 3.3 MB/s eta 0:00:12\n",
      "   -------------- ------------------------- 20.4/56.8 MB 3.3 MB/s eta 0:00:11\n",
      "   -------------- ------------------------- 21.0/56.8 MB 3.3 MB/s eta 0:00:11\n",
      "   --------------- ------------------------ 21.8/56.8 MB 3.3 MB/s eta 0:00:11\n",
      "   --------------- ------------------------ 22.5/56.8 MB 3.3 MB/s eta 0:00:11\n",
      "   ---------------- ----------------------- 23.3/56.8 MB 3.3 MB/s eta 0:00:11\n",
      "   ---------------- ----------------------- 24.1/56.8 MB 3.4 MB/s eta 0:00:10\n",
      "   ----------------- ---------------------- 24.9/56.8 MB 3.4 MB/s eta 0:00:10\n",
      "   ----------------- ---------------------- 25.4/56.8 MB 3.4 MB/s eta 0:00:10\n",
      "   ------------------ --------------------- 26.2/56.8 MB 3.4 MB/s eta 0:00:10\n",
      "   ------------------- -------------------- 27.0/56.8 MB 3.4 MB/s eta 0:00:09\n",
      "   ------------------- -------------------- 27.8/56.8 MB 3.4 MB/s eta 0:00:09\n",
      "   -------------------- ------------------- 28.6/56.8 MB 3.4 MB/s eta 0:00:09\n",
      "   -------------------- ------------------- 29.4/56.8 MB 3.4 MB/s eta 0:00:09\n",
      "   --------------------- ------------------ 29.9/56.8 MB 3.4 MB/s eta 0:00:09\n",
      "   --------------------- ------------------ 30.7/56.8 MB 3.4 MB/s eta 0:00:08\n",
      "   ---------------------- ----------------- 31.5/56.8 MB 3.4 MB/s eta 0:00:08\n",
      "   ---------------------- ----------------- 32.0/56.8 MB 3.4 MB/s eta 0:00:08\n",
      "   ----------------------- ---------------- 32.8/56.8 MB 3.4 MB/s eta 0:00:08\n",
      "   ----------------------- ---------------- 33.6/56.8 MB 3.4 MB/s eta 0:00:07\n",
      "   ------------------------ --------------- 34.3/56.8 MB 3.4 MB/s eta 0:00:07\n",
      "   ------------------------ --------------- 35.1/56.8 MB 3.4 MB/s eta 0:00:07\n",
      "   ------------------------- -------------- 35.9/56.8 MB 3.4 MB/s eta 0:00:07\n",
      "   ------------------------- -------------- 36.7/56.8 MB 3.4 MB/s eta 0:00:06\n",
      "   -------------------------- ------------- 37.5/56.8 MB 3.4 MB/s eta 0:00:06\n",
      "   -------------------------- ------------- 38.3/56.8 MB 3.4 MB/s eta 0:00:06\n",
      "   --------------------------- ------------ 39.1/56.8 MB 3.4 MB/s eta 0:00:06\n",
      "   ---------------------------- ----------- 39.8/56.8 MB 3.4 MB/s eta 0:00:05\n",
      "   ---------------------------- ----------- 40.4/56.8 MB 3.4 MB/s eta 0:00:05\n",
      "   ----------------------------- ---------- 41.4/56.8 MB 3.4 MB/s eta 0:00:05\n",
      "   ----------------------------- ---------- 42.2/56.8 MB 3.4 MB/s eta 0:00:05\n",
      "   ------------------------------ --------- 42.7/56.8 MB 3.4 MB/s eta 0:00:05\n",
      "   ------------------------------ --------- 43.8/56.8 MB 3.4 MB/s eta 0:00:04\n",
      "   ------------------------------- -------- 44.6/56.8 MB 3.4 MB/s eta 0:00:04\n",
      "   ------------------------------- -------- 45.4/56.8 MB 3.4 MB/s eta 0:00:04\n",
      "   -------------------------------- ------- 46.1/56.8 MB 3.4 MB/s eta 0:00:04\n",
      "   --------------------------------- ------ 46.9/56.8 MB 3.4 MB/s eta 0:00:03\n",
      "   --------------------------------- ------ 47.7/56.8 MB 3.4 MB/s eta 0:00:03\n",
      "   --------------------------------- ------ 48.2/56.8 MB 3.4 MB/s eta 0:00:03\n",
      "   ---------------------------------- ----- 49.0/56.8 MB 3.4 MB/s eta 0:00:03\n",
      "   ----------------------------------- ---- 49.8/56.8 MB 3.4 MB/s eta 0:00:03\n",
      "   ----------------------------------- ---- 50.6/56.8 MB 3.5 MB/s eta 0:00:02\n",
      "   ------------------------------------ --- 51.4/56.8 MB 3.5 MB/s eta 0:00:02\n",
      "   ------------------------------------ --- 52.2/56.8 MB 3.5 MB/s eta 0:00:02\n",
      "   ------------------------------------- -- 53.0/56.8 MB 3.5 MB/s eta 0:00:02\n",
      "   ------------------------------------- -- 53.7/56.8 MB 3.5 MB/s eta 0:00:01\n",
      "   -------------------------------------- - 54.5/56.8 MB 3.5 MB/s eta 0:00:01\n",
      "   -------------------------------------- - 55.3/56.8 MB 3.5 MB/s eta 0:00:01\n",
      "   ---------------------------------------  56.1/56.8 MB 3.5 MB/s eta 0:00:01\n",
      "   ---------------------------------------  56.6/56.8 MB 3.5 MB/s eta 0:00:01\n",
      "   ---------------------------------------- 56.8/56.8 MB 3.4 MB/s eta 0:00:00\n",
      "Installing collected packages: xgboost\n",
      "Successfully installed xgboost-3.0.5\n",
      "Note: you may need to restart the kernel to use updated packages.\n"
     ]
    },
    {
     "name": "stderr",
     "output_type": "stream",
     "text": [
      "\n",
      "[notice] A new release of pip is available: 24.2 -> 25.2\n",
      "[notice] To update, run: python.exe -m pip install --upgrade pip\n"
     ]
    }
   ],
   "source": [
    "%pip install pandas numpy matplotlib seaborn scikit-learn xgboost"
   ]
  },
  {
   "cell_type": "code",
   "execution_count": 2,
   "id": "603706c5",
   "metadata": {},
   "outputs": [],
   "source": [
    "# 1. Import Libraries\n",
    "import pandas as pd\n",
    "import numpy as np\n",
    "import matplotlib.pyplot as plt\n",
    "import seaborn as sns\n",
    "\n",
    "from sklearn.ensemble import RandomForestClassifier\n",
    "from xgboost import XGBClassifier\n",
    "from sklearn.feature_selection import RFE, chi2, SelectKBest\n",
    "from sklearn.preprocessing import MinMaxScaler\n"
   ]
  },
  {
   "cell_type": "code",
   "execution_count": 5,
   "id": "a3c317d3",
   "metadata": {},
   "outputs": [
    {
     "name": "stdout",
     "output_type": "stream",
     "text": [
      "Dataset shape: (303, 20)\n"
     ]
    }
   ],
   "source": [
    "# 2. Load Cleaned Dataset\n",
    "df = pd.read_csv(\"D:/Omar/Projects/Ai/Sprints/Heart_Disease_Project/data/cleaned_heart.csv\")\n",
    "X = df.drop(\"target\", axis=1)\n",
    "y = df[\"target\"]\n",
    "\n",
    "print(\"Dataset shape:\", X.shape)\n"
   ]
  },
  {
   "cell_type": "code",
   "execution_count": 6,
   "id": "ba56a55d",
   "metadata": {},
   "outputs": [
    {
     "data": {
      "image/png": "[encoded data removed]",
      "text/plain": [
       "<Figure size 1000x600 with 1 Axes>"
      ]
     },
     "metadata": {},
     "output_type": "display_data"
    }
   ],
   "source": [
    "# 3. Feature Importance using Random Forest\n",
    "rf = RandomForestClassifier(random_state=42)\n",
    "rf.fit(X, y)\n",
    "\n",
    "importances = rf.feature_importances_\n",
    "indices = np.argsort(importances)[::-1]\n",
    "\n",
    "# Plot feature importance\n",
    "plt.figure(figsize=(10, 6))\n",
    "sns.barplot(x=importances[indices], y=X.columns[indices])\n",
    "plt.title(\"Random Forest Feature Importance\")\n",
    "plt.show()\n"
   ]
  },
  {
   "cell_type": "code",
   "execution_count": null,
   "id": "35abe001",
   "metadata": {},
   "outputs": [
    {
     "name": "stdout",
     "output_type": "stream",
     "text": [
      "Selected features by RFE: ['oldpeak', 'cp_4.0', 'fbs_1.0', 'restecg_2.0', 'slope_2.0', 'ca_1.0', 'ca_2.0', 'ca_3.0', 'thal_6.0', 'thal_7.0']\n"
     ]
    }
   ],
   "source": [
    "# 4. Recursive Feature Elimination\n",
    "from sklearn.linear_model import LogisticRegression\n",
    "\n",
    "model = LogisticRegression(max_iter=1000)\n",
    "rfe = RFE(model, n_features_to_select=10)  # keep top 10 predictors\n",
    "rfe.fit(X, y)\n",
    "\n",
    "selected_features_rfe = X.columns[rfe.support_]\n",
    "print(\"Selected features by RFE:\", list(selected_features_rfe))\n"
   ]
  },
  {
   "cell_type": "code",
   "execution_count": null,
   "id": "3a5a8fb6",
   "metadata": {},
   "outputs": [
    {
     "name": "stdout",
     "output_type": "stream",
     "text": [
      "Selected features by Chi-Square: ['oldpeak', 'cp_2.0', 'cp_3.0', 'cp_4.0', 'exang_1.0', 'slope_2.0', 'ca_1.0', 'ca_2.0', 'ca_3.0', 'thal_7.0']\n"
     ]
    }
   ],
   "source": [
    "# 5. Chi-Square Test\n",
    "scaler = MinMaxScaler()\n",
    "X_scaled = scaler.fit_transform(X)\n",
    "\n",
    "chi2_selector = SelectKBest(score_func=chi2, k=10)\n",
    "chi2_selector.fit(X_scaled, y)\n",
    "\n",
    "selected_features_chi2 = X.columns[chi2_selector.get_support()]\n",
    "print(\"Selected features by Chi-Square:\", list(selected_features_chi2))\n"
   ]
  },
  {
   "cell_type": "code",
   "execution_count": 14,
   "id": "9ee7375b",
   "metadata": {},
   "outputs": [
    {
     "name": "stdout",
     "output_type": "stream",
     "text": [
      "Final selected features: {'ca_2.0', 'restecg_2.0', 'thal_6.0', 'thal_7.0', 'exang_1.0', 'fbs_1.0', 'ca_1.0', 'oldpeak', 'cp_3.0', 'cp_4.0', 'cp_2.0', 'ca_3.0', 'slope_2.0'}\n",
      "Reduced dataset saved as 'reduced_heart.csv'\n"
     ]
    }
   ],
   "source": [
    "# 7. Combine and Save Final Feature Set\n",
    "final_features = set(selected_features_rfe).union(set(selected_features_chi2))\n",
    "print(\"Final selected features:\", final_features)\n",
    "\n",
    "df_reduced = df[list(final_features) + [\"target\"]]\n",
    "df_reduced.to_csv(\"reduced_heart.csv\", index=False)\n",
    "\n",
    "print(\"Reduced dataset saved as 'reduced_heart.csv'\")\n"
   ]
  }
 ],
 "metadata": {
  "kernelspec": {
   "display_name": "Python 3",
   "language": "python",
   "name": "python3"
  },
  "language_info": {
   "codemirror_mode": {
    "name": "ipython",
    "version": 3
   },
   "file_extension": ".py",
   "mimetype": "text/x-python",
   "name": "python",
   "nbconvert_exporter": "python",
   "pygments_lexer": "ipython3",
   "version": "3.13.0"
  }
 },
 "nbformat": 4,
 "nbformat_minor": 5
}
